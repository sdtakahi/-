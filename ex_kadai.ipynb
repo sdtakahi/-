{
  "cells": [
    {
      "cell_type": "code",
      "execution_count": 1,
      "metadata": {
        "colab": {
          "base_uri": "https://localhost:8080/"
        },
        "id": "J6njUg_jA63J",
        "outputId": "49f0f844-5516-4ff7-a504-30b82f519c97"
      },
      "outputs": [
        {
          "name": "stdout",
          "output_type": "stream",
          "text": [
            "1985\n",
            "昭和60年\n"
          ]
        }
      ],
      "source": [
        "# 追加宿題①　1980～2023までの整数（西暦） x を引数として受け取り、昭和〇年、平成〇年、あるいは令和〇年と返す関数\n",
        "# 西暦をランダムに出力して和暦に変換する\n",
        "import random\n",
        "x = random.randint(1980, 2023)\n",
        "print(x)\n",
        "def western_calendar(x):\n",
        "  if 1980 <= x <= 1988:\n",
        "    return (\"昭和\" + str(x - 1925) + \"年\")\n",
        "  elif 1989 <= x <= 2018:\n",
        "    return (\"平成\" + str(x - 1988) + \"年\")\n",
        "  else:\n",
        "    return (\"令和\" + str(x - 2018) + \"年\")\n",
        "print(western_calendar(x))"
      ]
    },
    {
      "cell_type": "code",
      "execution_count": 2,
      "metadata": {
        "colab": {
          "base_uri": "https://localhost:8080/"
        },
        "id": "iOX01l2SBGu8",
        "outputId": "00af3938-51b8-4844-cd33-45703e1966ae"
      },
      "outputs": [
        {
          "name": "stdout",
          "output_type": "stream",
          "text": [
            "1980\n",
            "昭和55年\n",
            "1981\n",
            "昭和56年\n",
            "1982\n",
            "昭和57年\n",
            "1983\n",
            "昭和58年\n",
            "1984\n",
            "昭和59年\n",
            "1985\n",
            "昭和60年\n",
            "1986\n",
            "昭和61年\n",
            "1987\n",
            "昭和62年\n",
            "1988\n",
            "昭和63年\n",
            "1989\n",
            "平成1年\n",
            "1990\n",
            "平成2年\n",
            "1991\n",
            "平成3年\n",
            "1992\n",
            "平成4年\n",
            "1993\n",
            "平成5年\n",
            "1994\n",
            "平成6年\n",
            "1995\n",
            "平成7年\n",
            "1996\n",
            "平成8年\n",
            "1997\n",
            "平成9年\n",
            "1998\n",
            "平成10年\n",
            "1999\n",
            "平成11年\n",
            "2000\n",
            "平成12年\n",
            "2001\n",
            "平成13年\n",
            "2002\n",
            "平成14年\n",
            "2003\n",
            "平成15年\n",
            "2004\n",
            "平成16年\n",
            "2005\n",
            "平成17年\n",
            "2006\n",
            "平成18年\n",
            "2007\n",
            "平成19年\n",
            "2008\n",
            "平成20年\n",
            "2009\n",
            "平成21年\n",
            "2010\n",
            "平成22年\n",
            "2011\n",
            "平成23年\n",
            "2012\n",
            "平成24年\n",
            "2013\n",
            "平成25年\n",
            "2014\n",
            "平成26年\n",
            "2015\n",
            "平成27年\n",
            "2016\n",
            "平成28年\n",
            "2017\n",
            "平成29年\n",
            "2018\n",
            "平成30年\n",
            "2019\n",
            "令和1年\n",
            "2020\n",
            "令和2年\n",
            "2021\n",
            "令和3年\n",
            "2022\n",
            "令和4年\n",
            "2023\n",
            "令和5年\n"
          ]
        }
      ],
      "source": [
        "# 追加宿題①’　1980～2023までの整数（西暦） x を引数として受け取り、昭和〇年、平成〇年、あるいは令和〇年と返す関数\n",
        "# 西暦の順番に和暦に変換していく\n",
        "for x in range(1980, 2024):\n",
        "  def western_calendar(x):\n",
        "    if 1980 <= x <= 1988:\n",
        "      print(x)\n",
        "      return (\"昭和\" + str(x - 1925) + \"年\")\n",
        "    elif 1989 <= x <= 2018:\n",
        "      print(x)\n",
        "      return (\"平成\" + str(x - 1988) + \"年\")\n",
        "    else:\n",
        "      print(x)\n",
        "      return (\"令和\" + str(x - 2018) + \"年\")\n",
        "  print(western_calendar(x))"
      ]
    },
    {
      "cell_type": "code",
      "execution_count": 3,
      "metadata": {
        "colab": {
          "base_uri": "https://localhost:8080/"
        },
        "id": "OZuVcA8yBM9M",
        "outputId": "57ad1025-42ba-4f9d-c943-2314c392236e"
      },
      "outputs": [
        {
          "name": "stdout",
          "output_type": "stream",
          "text": [
            "[1, 2, 4, 5, 10, 20, 25, 50, 100]\n"
          ]
        }
      ],
      "source": [
        "# 追加宿題② 整数xを引数として受け取り、xの約数をすべてリストにして返す関数\n",
        "def divisor(x):\n",
        "  divisor_list = []\n",
        "  for i in range(1, x + 1):\n",
        "    if x % i == 0:\n",
        "      divisor_list.append(i)\n",
        "  return divisor_list\n",
        "\n",
        "x = 100\n",
        "print(divisor(x))"
      ]
    },
    {
      "cell_type": "code",
      "execution_count": 4,
      "metadata": {
        "colab": {
          "base_uri": "https://localhost:8080/"
        },
        "id": "_lcr9jqzBcBS",
        "outputId": "5266cc9f-82a2-420a-b3c9-b37778808ba2"
      },
      "outputs": [
        {
          "name": "stdout",
          "output_type": "stream",
          "text": [
            "39\n",
            "[1, 3, 13, 39]\n"
          ]
        }
      ],
      "source": [
        "# 追加宿題②' 整数 x を引数として受け取り、xの約数をすべてリストにして返す関数\n",
        "import random # 確認用\n",
        "x = random.randint(1, 100) # 確認用\n",
        "print(x)\n",
        "def divisor(x):\n",
        "  divisor_list = []\n",
        "  for i in range(1, x + 1):\n",
        "    if x % i == 0:\n",
        "      divisor_list.append(i)\n",
        "  return divisor_list\n",
        "print(divisor(x))"
      ]
    },
    {
      "cell_type": "code",
      "execution_count": 5,
      "metadata": {
        "colab": {
          "base_uri": "https://localhost:8080/"
        },
        "id": "QF2OJBjUBf2D",
        "outputId": "8eb51593-cbb0-4078-def1-d8b4947e80cf"
      },
      "outputs": [
        {
          "name": "stdout",
          "output_type": "stream",
          "text": [
            "[2, 3, 5, 7, 11, 13, 17, 19, 23, 29]\n"
          ]
        }
      ],
      "source": [
        "# 追加宿題③　②の関数を使って、1から整数xまでの素数をすべて求める関数\n",
        "def divisor(x):\n",
        "  divisor_list = []\n",
        "  for i in range(1, x + 1):\n",
        "    if x % i == 0:\n",
        "      divisor_list.append(i)\n",
        "  return divisor_list\n",
        "\n",
        "def is_prime(n):\n",
        "  #約数が2つのみの場合、nは素数\n",
        "  return len(divisor(n)) == 2\n",
        "\n",
        "def primes_up_to(x):\n",
        "  prime_list =[]\n",
        "  for i in range(2, x + 1): # 1は素数ではないため2から開始\n",
        "    if is_prime(i):\n",
        "      prime_list.append(i)\n",
        "  return prime_list\n",
        "\n",
        "x = 30\n",
        "print(primes_up_to(x))"
      ]
    },
    {
      "cell_type": "code",
      "execution_count": 6,
      "metadata": {
        "colab": {
          "base_uri": "https://localhost:8080/"
        },
        "id": "ZCiH-TY1Botu",
        "outputId": "ded9def6-c2b9-47da-901c-507baf2dd149"
      },
      "outputs": [
        {
          "name": "stdout",
          "output_type": "stream",
          "text": [
            "200\n"
          ]
        }
      ],
      "source": [
        "# 追加宿題④ 長方形を表す Rectangle クラスを定義 インスタンス化して幅と高さの数値を与えて、メソッド area を呼び出して面積を求める\n",
        "class Rectangle:\n",
        "  def __init__(self, width, height):\n",
        "    self.width = width\n",
        "    self.height = height\n",
        "  def area(self):\n",
        "    return self.width * self.height\n",
        "\n",
        "rectangle = Rectangle(10, 20)\n",
        "print(rectangle.area())"
      ]
    },
    {
      "cell_type": "code",
      "execution_count": 16,
      "metadata": {
        "colab": {
          "base_uri": "https://localhost:8080/"
        },
        "id": "aeFCMaFZBzkE",
        "outputId": "085a233a-776d-4e12-984e-3dea30ac7f8f"
      },
      "outputs": [
        {
          "name": "stdout",
          "output_type": "stream",
          "text": [
            "width:12, height:64\n",
            "768\n"
          ]
        }
      ],
      "source": [
        "# 追加宿題④' 長方形を表す Rectangle クラスを定義 インスタンス化して幅と高さの数値を与えて、メソッド area を呼び出して面積を求める\n",
        "# 幅と高さの数値を1～100までのランダムな数値を与えて面積を求める\n",
        "import random\n",
        "width_x = random.randint(1, 100)\n",
        "height_y = random.randint(1, 100)\n",
        "print(f\"width:{width_x}, height:{height_y}\")\n",
        "\n",
        "class Rectangle:\n",
        "  def __init__(self, width, height):\n",
        "    self.width = width\n",
        "    self.height = height\n",
        "  def area(self):\n",
        "    return self.width * self.height\n",
        "\n",
        "rectangle = Rectangle(width_x, height_y)\n",
        "print(rectangle.area())"
      ]
    },
    {
      "cell_type": "code",
      "execution_count": null,
      "metadata": {
        "id": "RAoida9gDYj6"
      },
      "outputs": [],
      "source": []
    }
  ],
  "metadata": {
    "colab": {
      "provenance": []
    },
    "kernelspec": {
      "display_name": "Python 3",
      "name": "python3"
    },
    "language_info": {
      "name": "python"
    }
  },
  "nbformat": 4,
  "nbformat_minor": 0
}
